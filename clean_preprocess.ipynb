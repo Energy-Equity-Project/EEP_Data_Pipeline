{
 "cells": [
  {
   "cell_type": "markdown",
   "metadata": {},
   "source": [
    "# Cleaning and Preprocessing Variables"
   ]
  },
  {
   "cell_type": "markdown",
   "metadata": {},
   "source": [
    "This notebook describes how variables were cleaned for data processing. The output files of this script will go in the clean_data/ folder."
   ]
  },
  {
   "cell_type": "code",
   "execution_count": 1,
   "metadata": {},
   "outputs": [],
   "source": [
    "# Importing libraries\n",
    "import os\n",
    "import requests\n",
    "import pandas as pd\n",
    "import numpy as np\n",
    "import re"
   ]
  },
  {
   "cell_type": "markdown",
   "metadata": {},
   "source": [
    "# Cleaning Energy Variables"
   ]
  },
  {
   "cell_type": "code",
   "execution_count": 3,
   "metadata": {},
   "outputs": [],
   "source": [
    "# File and Directory setup\n",
    "energy_dir = \"data/energy\"\n",
    "\n",
    "e_burden_dir = \"data/energy/doe_lead\"\n",
    "e_burden_outdir = \"clean_data/energy/doe_lead\"\n",
    "\n",
    "aceee_outdir = \"clean_data/energy\""
   ]
  },
  {
   "cell_type": "markdown",
   "metadata": {},
   "source": [
    "## Energy Burden\n",
    "\n",
    "Subsequent code blocks take the energy burden files downloaded from the DOE LEAD tool remove unnecesarily rows and compile them together into one CSV file."
   ]
  },
  {
   "cell_type": "code",
   "execution_count": null,
   "metadata": {},
   "outputs": [],
   "source": [
    "e_burden_files = os.listdir(e_burden_dir)\n",
    "\n",
    "# Remove any unwanted files\n",
    "e_burden_files = [filename for filename in e_burden_files if re.match(r\"(?:[A-Z])(?:[A-Z])\\.csv\", filename)]"
   ]
  },
  {
   "cell_type": "code",
   "execution_count": null,
   "metadata": {},
   "outputs": [],
   "source": [
    "# Re-write Energy Burden files\n",
    "for e_burden_filename in e_burden_files:\n",
    "   # Read in current file\n",
    "   curr_fp = os.path.join(e_burden_dir, e_burden_filename)\n",
    "   f = open(curr_fp, \"r\")\n",
    "   lines = f.readlines()\n",
    "   f.close()\n",
    "\n",
    "   # Remove rows of DOE LEAD Energy burden files (metadata, description)\n",
    "   lines = lines[8:]\n",
    "\n",
    "   # Write file back without description rows\n",
    "   out_fp = os.path.join(e_burden_outdir, e_burden_filename)\n",
    "   f_out = open(out_fp, \"w\")\n",
    "   f_out.writelines(lines)\n",
    "   f_out.close()\n"
   ]
  },
  {
   "cell_type": "code",
   "execution_count": 7,
   "metadata": {},
   "outputs": [],
   "source": [
    "\n",
    "# Compile all Energy Burden files together\n",
    "\n",
    "# Energy Burden dataframe (collector)\n",
    "e_burden = pd.DataFrame(data = None, columns = [\"GEOID\", \"energy_burden\"])\n",
    "\n",
    "for e_burden_filename in e_burden_files:\n",
    "   curr_fp = os.path.join(e_burden_outdir, e_burden_filename)\n",
    "   curr_df = pd.read_csv(curr_fp, dtype={\"Geography ID\": str})\n",
    "\n",
    "   # Format current dataframe\n",
    "   curr_df = curr_df[[\"Geography ID\", \"Avg. Energy Burden (% income)\"]]\n",
    "   curr_df.columns = [\"GEOID\", \"energy_burden\"]\n",
    "   curr_df[\"GEOID\"] = np.where(\n",
    "      curr_df[\"GEOID\"].str.len() == 11,\n",
    "      '0' + curr_df[\"GEOID\"],\n",
    "      curr_df[\"GEOID\"]\n",
    "   )\n",
    "\n",
    "   # Collect current \n",
    "   e_burden = pd.concat([e_burden, curr_df])\n",
    "\n",
    "# Writing Energy burden dataframe\n",
    "e_burden.to_csv(os.path.join(e_burden_outdir, \"energy_burden.csv\", index = False))\n",
    "\n"
   ]
  },
  {
   "cell_type": "markdown",
   "metadata": {},
   "source": [
    "## ACEEE State Scorecard Variables\n",
    "\n",
    "**Note:** ACEEE State Scorecard Variables are reported at a state level, and so each the state level score was broadcasted and assigned to be the score for each census tract of their respective state."
   ]
  },
  {
   "cell_type": "code",
   "execution_count": null,
   "metadata": {},
   "outputs": [],
   "source": [
    "aceee = pd.read_csv(os.path.join(energy_dir, \"ACEEE State Scorecard Data, 2021.csv\"))\n",
    "\n",
    "# Capturing correct columns\n",
    "aceee = aceee[\n",
    "   [\"STATE\",\n",
    "   \"GAS \\nSAVINGS - % \\nof retail residential and commercial sales\",\n",
    "   \"GAS SPENDING - $ \\n/ residential customer\",\n",
    "   \"ELECTRIC SAVINGS - % \\nof retail sales\",\n",
    "   \"ELECTRIC SPENDING - % \\nrevenue\"]]\n",
    "aceee.columns = [\"STATE\", \"gas_savings_percent\", \"gas_spending_usd\", \"electric_savings_percent\", \"electric_spending_percent\"]\n",
    "\n",
    "# Getting rid of excess empty rows\n",
    "aceee = aceee.iloc[2:53]\n",
    "\n",
    "# Add their state fips code\n",
    "state_fips = pd.read_csv(\"data/support/state_fips.csv\", dtype = {\"STATE\": str})\n",
    "state_fips = state_fips[[\"STATE_NAME\", \"STATE\"]]\n",
    "state_fips.columns = [\"STATE\", \"STATEFP\"]\n",
    "aceee = pd.merge(aceee, state_fips, how = \"left\", on = \"STATE\")\n",
    "\n",
    "# Remove $ and % signs\n",
    "aceee[\"gas_savings_percent\"] = aceee[\"gas_savings_percent\"].str[:-1]\n",
    "aceee[\"gas_spending_usd\"] = aceee[\"gas_spending_usd\"].str[1:]\n",
    "aceee[\"electric_savings_percent\"] = aceee[\"electric_savings_percent\"].str[:-1]\n",
    "aceee[\"electric_spending_percent\"] = aceee[\"electric_spending_percent\"].str[:-1]\n",
    "\n",
    "# Make sure all columns are correct types\n",
    "aceee = aceee.astype({\n",
    "   \"STATE\": str,\n",
    "   \"STATEFP\": str,\n",
    "   \"gas_savings_percent\": float,\n",
    "   \"gas_spending_usd\": float,\n",
    "   \"electric_savings_percent\": float,\n",
    "   \"electric_spending_percent\": float\n",
    "})\n",
    "\n",
    "# Write ACEEE data\n",
    "aceee.to_csv(os.path.join(aceee_outdir, \"aceee.csv\"), index = False)\n",
    "aceee.head()"
   ]
  },
  {
   "cell_type": "markdown",
   "metadata": {},
   "source": [
    "## Median income of solar installers by tract"
   ]
  },
  {
   "cell_type": "code",
   "execution_count": null,
   "metadata": {},
   "outputs": [],
   "source": [
    "solar_installers = pd.read_csv(\"data/energy/Median income of solar installers by tract.csv\", dtype = {\"CensusTract\": str, \"n\": int, \"median_income\": float})\n",
    "solar_installers.columns = [\"GEOID\", \"num_solar_installers\", \"median_income_solar\"]\n",
    "\n",
    "# Make sure all tract numbers are 11 digits long pad with zeros accordingly\n",
    "solar_installers[\"GEOID\"] = np.where(\n",
    "   solar_installers[\"GEOID\"].str.len() == 10,\n",
    "   \"0\" + solar_installers[\"GEOID\"],\n",
    "   solar_installers[\"GEOID\"]\n",
    ")\n",
    "\n",
    "# Write file out\n",
    "solar_installers.to_csv(\"clean_data/energy/median_income_solar_installer.csv\", index = False)\n",
    "solar_installers.head()\n"
   ]
  },
  {
   "cell_type": "markdown",
   "metadata": {},
   "source": [
    "## Residential Rates as a % of Commercial and Industral rates"
   ]
  },
  {
   "cell_type": "code",
   "execution_count": 66,
   "metadata": {},
   "outputs": [
    {
     "data": {
      "text/html": [
       "<div>\n",
       "<style scoped>\n",
       "    .dataframe tbody tr th:only-of-type {\n",
       "        vertical-align: middle;\n",
       "    }\n",
       "\n",
       "    .dataframe tbody tr th {\n",
       "        vertical-align: top;\n",
       "    }\n",
       "\n",
       "    .dataframe thead th {\n",
       "        text-align: right;\n",
       "    }\n",
       "</style>\n",
       "<table border=\"1\" class=\"dataframe\">\n",
       "  <thead>\n",
       "    <tr style=\"text-align: right;\">\n",
       "      <th></th>\n",
       "      <th>STATE</th>\n",
       "      <th>res_rate_percent_commercial_industrial</th>\n",
       "      <th>STATEFP</th>\n",
       "    </tr>\n",
       "  </thead>\n",
       "  <tbody>\n",
       "    <tr>\n",
       "      <th>0</th>\n",
       "      <td>Alabama</td>\n",
       "      <td>97.0</td>\n",
       "      <td>01</td>\n",
       "    </tr>\n",
       "    <tr>\n",
       "      <th>1</th>\n",
       "      <td>District of Columbia</td>\n",
       "      <td>99.0</td>\n",
       "      <td>11</td>\n",
       "    </tr>\n",
       "    <tr>\n",
       "      <th>2</th>\n",
       "      <td>Montana</td>\n",
       "      <td>105.0</td>\n",
       "      <td>30</td>\n",
       "    </tr>\n",
       "    <tr>\n",
       "      <th>3</th>\n",
       "      <td>Washington</td>\n",
       "      <td>105.0</td>\n",
       "      <td>53</td>\n",
       "    </tr>\n",
       "    <tr>\n",
       "      <th>4</th>\n",
       "      <td>North Dakota</td>\n",
       "      <td>106.0</td>\n",
       "      <td>38</td>\n",
       "    </tr>\n",
       "  </tbody>\n",
       "</table>\n",
       "</div>"
      ],
      "text/plain": [
       "                  STATE  res_rate_percent_commercial_industrial STATEFP\n",
       "0               Alabama                                    97.0      01\n",
       "1  District of Columbia                                    99.0      11\n",
       "2               Montana                                   105.0      30\n",
       "3            Washington                                   105.0      53\n",
       "4          North Dakota                                   106.0      38"
      ]
     },
     "execution_count": 66,
     "metadata": {},
     "output_type": "execute_result"
    }
   ],
   "source": [
    "res_percent = pd.read_csv(\"data/energy/Residential cost per kWh as % of commercial + industrial rates.csv\")\n",
    "# Keep relevant columns and rows\n",
    "res_percent = res_percent.iloc[3:54, [0, 8]]\n",
    "# Rename columns\n",
    "res_percent.columns = [\"STATE\", \"res_rate_percent_commercial_industrial\"]\n",
    "# Make sure column types are correct\n",
    "res_percent = res_percent.astype({\n",
    "   \"STATE\": str,\n",
    "   \"res_rate_percent_commercial_industrial\": str\n",
    "})\n",
    "\n",
    "# Remove % sign from residential rates and cast as float\n",
    "res_percent[\"res_rate_percent_commercial_industrial\"] = res_percent[\"res_rate_percent_commercial_industrial\"].str[:-1]\n",
    "res_percent = res_percent.astype({\"res_rate_percent_commercial_industrial\": float})\n",
    "\n",
    "# Add their state fips code\n",
    "state_fips = pd.read_csv(\"data/support/state_fips.csv\", dtype = {\"STATE\": str})\n",
    "state_fips = state_fips[[\"STATE_NAME\", \"STATE\"]]\n",
    "state_fips.columns = [\"STATE\", \"STATEFP\"]\n",
    "res_percent = pd.merge(res_percent, state_fips, how = \"left\", on = \"STATE\")\n",
    "\n",
    "# Write results out\n",
    "res_percent.to_csv(\"clean_data/energy/res_rate_percent_commercial_industrial.csv\", index = False)\n",
    "res_percent.head()"
   ]
  },
  {
   "cell_type": "code",
   "execution_count": null,
   "metadata": {},
   "outputs": [],
   "source": []
  }
 ],
 "metadata": {
  "kernelspec": {
   "display_name": "Python 3.9.12 64-bit",
   "language": "python",
   "name": "python3"
  },
  "language_info": {
   "codemirror_mode": {
    "name": "ipython",
    "version": 3
   },
   "file_extension": ".py",
   "mimetype": "text/x-python",
   "name": "python",
   "nbconvert_exporter": "python",
   "pygments_lexer": "ipython3",
   "version": "3.9.12"
  },
  "orig_nbformat": 4,
  "vscode": {
   "interpreter": {
    "hash": "aee8b7b246df8f9039afb4144a1f6fd8d2ca17a180786b69acc140d282b71a49"
   }
  }
 },
 "nbformat": 4,
 "nbformat_minor": 2
}
