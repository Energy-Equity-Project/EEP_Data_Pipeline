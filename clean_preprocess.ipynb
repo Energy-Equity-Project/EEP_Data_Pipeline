{
 "cells": [
  {
   "cell_type": "markdown",
   "metadata": {},
   "source": [
    "# Cleaning and Preprocessing Variables"
   ]
  },
  {
   "cell_type": "markdown",
   "metadata": {},
   "source": [
    "This notebook describes how variables were cleaned for data processing. The output files of this script will go in the inputs folder."
   ]
  },
  {
   "cell_type": "code",
   "execution_count": 3,
   "metadata": {},
   "outputs": [],
   "source": [
    "# Importing libraries\n",
    "import os\n",
    "import requests\n",
    "import pandas as pd\n",
    "import numpy as np\n",
    "import re"
   ]
  },
  {
   "cell_type": "markdown",
   "metadata": {},
   "source": [
    "# Cleaning Energy Variables\n",
    "\n",
    "## Energy Burden"
   ]
  },
  {
   "cell_type": "code",
   "execution_count": 4,
   "metadata": {},
   "outputs": [],
   "source": [
    "# File and Directory setup\n",
    "e_burden_dir = \"data/energy/doe_lead\"\n",
    "e_burden_outdir = \"inputs/energy/doe_lead\"\n",
    "e_burden_files = os.listdir(e_burden_dir)\n",
    "\n",
    "# Remove any unwanted files\n",
    "e_burden_files = [filename for filename in e_burden_files if re.match(r\"(?:[A-Z])(?:[A-Z])\\.csv\", filename)]"
   ]
  },
  {
   "cell_type": "code",
   "execution_count": null,
   "metadata": {},
   "outputs": [],
   "source": [
    "# Re-write Energy Burden files\n",
    "for e_burden_filename in e_burden_files:\n",
    "   # Read in current file\n",
    "   curr_fp = os.path.join(e_burden_dir, e_burden_filename)\n",
    "   f = open(curr_fp, \"r\")\n",
    "   lines = f.readlines()\n",
    "   f.close()\n",
    "\n",
    "   # Remove rows of DOE LEAD Energy burden files (metadata, description)\n",
    "   lines = lines[8:]\n",
    "\n",
    "   # Write file back without description rows\n",
    "   out_fp = os.path.join(e_burden_outdir, e_burden_filename)\n",
    "   f_out = open(out_fp, \"w\")\n",
    "   f_out.writelines(lines)\n",
    "   f_out.close()\n"
   ]
  },
  {
   "cell_type": "code",
   "execution_count": 7,
   "metadata": {},
   "outputs": [],
   "source": [
    "\n",
    "# Compile all Energy Burden files together\n",
    "\n",
    "# Energy Burden dataframe (collector)\n",
    "e_burden = pd.DataFrame(data = None, columns = [\"GEOID\", \"energy_burden\"])\n",
    "\n",
    "for e_burden_filename in e_burden_files:\n",
    "   curr_fp = os.path.join(e_burden_outdir, e_burden_filename)\n",
    "   curr_df = pd.read_csv(curr_fp, dtype={\"Geography ID\": str})\n",
    "\n",
    "   # Format current dataframe\n",
    "   curr_df = curr_df[[\"Geography ID\", \"Avg. Energy Burden (% income)\"]]\n",
    "   curr_df.columns = [\"GEOID\", \"energy_burden\"]\n",
    "   curr_df[\"GEOID\"] = np.where(\n",
    "      curr_df[\"GEOID\"].str.len() == 11,\n",
    "      '0' + curr_df[\"GEOID\"],\n",
    "      curr_df[\"GEOID\"]\n",
    "   )\n",
    "\n",
    "   # Collect current \n",
    "   e_burden = pd.concat([e_burden, curr_df])\n",
    "\n",
    "# Writing Energy burden dataframe\n",
    "e_burden.to_csv(\"inputs/energy/doe_lead/energy_burden.csv\", index = False)\n",
    "\n"
   ]
  },
  {
   "cell_type": "code",
   "execution_count": null,
   "metadata": {},
   "outputs": [],
   "source": []
  }
 ],
 "metadata": {
  "kernelspec": {
   "display_name": "Python 3.9.12 64-bit",
   "language": "python",
   "name": "python3"
  },
  "language_info": {
   "codemirror_mode": {
    "name": "ipython",
    "version": 3
   },
   "file_extension": ".py",
   "mimetype": "text/x-python",
   "name": "python",
   "nbconvert_exporter": "python",
   "pygments_lexer": "ipython3",
   "version": "3.9.12"
  },
  "orig_nbformat": 4,
  "vscode": {
   "interpreter": {
    "hash": "aee8b7b246df8f9039afb4144a1f6fd8d2ca17a180786b69acc140d282b71a49"
   }
  }
 },
 "nbformat": 4,
 "nbformat_minor": 2
}
