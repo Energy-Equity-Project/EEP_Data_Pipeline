{
 "cells": [
  {
   "cell_type": "markdown",
   "id": "add482f5-817f-47cb-925b-36918fd6d1f4",
   "metadata": {},
   "source": [
    "# Supporting Documents and Variables"
   ]
  },
  {
   "cell_type": "code",
   "execution_count": 14,
   "id": "66d75b2e-cfc6-4bd6-98ce-7c5260d24117",
   "metadata": {},
   "outputs": [],
   "source": [
    "# Loading Libraries needed\n",
    "import requests\n",
    "import pandas as pd\n",
    "import numpy as np\n",
    "import re"
   ]
  },
  {
   "cell_type": "markdown",
   "id": "514bfc27-fdcc-4201-b071-69caf4fbe843",
   "metadata": {},
   "source": [
    "## State FIPS codes\n",
    "\n",
    "These were taken from the [US Census Bureau](https://www.census.gov/library/reference/code-lists/ansi.html#state). This were to request data at a state by state level for their ACS variables. [Specifically taken from this URL](https://www2.census.gov/geo/docs/reference/state.txt)"
   ]
  },
  {
   "cell_type": "code",
   "execution_count": 16,
   "id": "b482e179-f12b-4245-ae10-eef6a3d02141",
   "metadata": {},
   "outputs": [
    {
     "name": "stdout",
     "output_type": "stream",
     "text": [
      "200\n"
     ]
    }
   ],
   "source": [
    "# Making a request for the State FIPS codes\n",
    "# Note these are pipe ie \"|\" separated\n",
    "state_fips_url = \"https://www2.census.gov/geo/docs/reference/state.txt\"\n",
    "resp = requests.get(state_fips_url)\n",
    "print(resp.status_code)\n",
    "state_fips = resp.text\n",
    "\n",
    "state_fips_outpath = \"data/support/state_fips_raw.txt\"\n",
    "state_fips_f = open(state_fips_outpath, \"w\")\n",
    "state_fips_f.write(state_fips)\n",
    "state_fips_f.close()\n",
    "\n",
    "# Formatting data so that FIPS column is padded with 0 when is a single digit\n",
    "state_fips_df = pd.read_csv(state_fips_outpath, delimiter=\"|\", dtype={\"STATE\": str})\n",
    "state_fips_df[\"STATE\"] = np.where(\n",
    "    state_fips_df[\"STATE\"].str.len() == 1,\n",
    "    '0' + state_fips_df[\"STATE\"],\n",
    "    state_fips_df[\"STATE\"]\n",
    ")\n",
    "\n",
    "state_fips_df.to_csv(\"data/support/state_fips.csv\", index=False)"
   ]
  },
  {
   "cell_type": "markdown",
   "id": "d7d5721e-e5fa-4825-a408-29a0082f2efd",
   "metadata": {},
   "source": [
    "## US Census API Interaction\n",
    "In order to interact with the US Census Bureau API you need to sign up for an [API key here](https://api.census.gov/data/key_signup.html)."
   ]
  },
  {
   "cell_type": "code",
   "execution_count": null,
   "id": "29faa0f8-3269-44b0-8d44-55fcfaaa99f9",
   "metadata": {},
   "outputs": [],
   "source": []
  }
 ],
 "metadata": {
  "kernelspec": {
   "display_name": "Python 3 (ipykernel)",
   "language": "python",
   "name": "python3"
  },
  "language_info": {
   "codemirror_mode": {
    "name": "ipython",
    "version": 3
   },
   "file_extension": ".py",
   "mimetype": "text/x-python",
   "name": "python",
   "nbconvert_exporter": "python",
   "pygments_lexer": "ipython3",
   "version": "3.9.12"
  }
 },
 "nbformat": 4,
 "nbformat_minor": 5
}
