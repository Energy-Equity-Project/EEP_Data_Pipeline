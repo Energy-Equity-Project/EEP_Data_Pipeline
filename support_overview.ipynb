{
 "cells": [
  {
   "cell_type": "markdown",
   "id": "add482f5-817f-47cb-925b-36918fd6d1f4",
   "metadata": {},
   "source": [
    "# Supporting Documents and Variables"
   ]
  },
  {
   "cell_type": "code",
   "execution_count": 2,
   "id": "66d75b2e-cfc6-4bd6-98ce-7c5260d24117",
   "metadata": {},
   "outputs": [
    {
     "name": "stderr",
     "output_type": "stream",
     "text": [
      "/usr/local/lib/python3.9/site-packages/geopandas/_compat.py:111: UserWarning: The Shapely GEOS version (3.9.1-CAPI-1.14.2) is incompatible with the GEOS version PyGEOS was compiled with (3.10.1-CAPI-1.16.0). Conversions between both will be slow.\n",
      "  warnings.warn(\n"
     ]
    }
   ],
   "source": [
    "# Loading Libraries needed\n",
    "import os\n",
    "import requests\n",
    "import pandas as pd\n",
    "import geopandas as gpd\n",
    "import numpy as np\n",
    "import re\n",
    "import matplotlib"
   ]
  },
  {
   "cell_type": "markdown",
   "id": "514bfc27-fdcc-4201-b071-69caf4fbe843",
   "metadata": {},
   "source": [
    "## State FIPS codes\n",
    "\n",
    "These were taken from the [US Census Bureau](https://www.census.gov/library/reference/code-lists/ansi.html#state). This were to request data at a state by state level for their ACS variables. [Specifically taken from this URL](https://www2.census.gov/geo/docs/reference/state.txt)"
   ]
  },
  {
   "cell_type": "code",
   "execution_count": 15,
   "id": "b482e179-f12b-4245-ae10-eef6a3d02141",
   "metadata": {},
   "outputs": [
    {
     "name": "stdout",
     "output_type": "stream",
     "text": [
      "200\n"
     ]
    }
   ],
   "source": [
    "# Making a request for the State FIPS codes\n",
    "# Note these are pipe ie \"|\" separated\n",
    "state_fips_url = \"https://www2.census.gov/geo/docs/reference/state.txt\"\n",
    "resp = requests.get(state_fips_url)\n",
    "print(resp.status_code)\n",
    "state_fips = resp.text\n",
    "\n",
    "state_fips_outpath = \"data/support/state_fips_raw.txt\"\n",
    "state_fips_f = open(state_fips_outpath, \"w\")\n",
    "state_fips_f.write(state_fips)\n",
    "state_fips_f.close()\n",
    "\n",
    "# Formatting data so that FIPS column is padded with 0 when is a single digit\n",
    "state_fips_df = pd.read_csv(state_fips_outpath, delimiter=\"|\", dtype={\"STATE\": str})\n",
    "state_fips_df[\"STATE\"] = np.where(\n",
    "    state_fips_df[\"STATE\"].str.len() == 1,\n",
    "    '0' + state_fips_df[\"STATE\"],\n",
    "    state_fips_df[\"STATE\"]\n",
    ")\n",
    "\n",
    "state_fips_df.to_csv(\"data/support/state_fips.csv\", index=False)"
   ]
  },
  {
   "cell_type": "markdown",
   "id": "d5f1efaa",
   "metadata": {},
   "source": [
    "## Geographic References"
   ]
  },
  {
   "cell_type": "code",
   "execution_count": 5,
   "id": "5751c8d7",
   "metadata": {},
   "outputs": [],
   "source": [
    "# Use census tract metadata file as base dataframe for joins\n",
    "# Taken from: https://www.census.gov/geographies/mapping-files/time-series/geo/cartographic-boundary.html\n",
    "census_tracts = gpd.read_file(\"data/geography/cb_2021_us_tract_500k.zip\", dtype = {\n",
    "   \"STATEFP\": str,\n",
    "   \"COUNTYFP\": str,\n",
    "   \"TRACTCE\": str,\n",
    "   \"GEOID\": str\n",
    "})\n",
    "\n",
    "unwanted_states = [\n",
    "\t\"60\", # American Samoa\n",
    "  \"66\", # Guam\n",
    "  \"69\", # Northern Mariana Islands\n",
    "  \"72\", # Puerto Rico\n",
    "  \"78\", # Virgin Islands\n",
    "  \"15\", # Hawaii\n",
    "  \"02\",  # Alaska\n",
    "]\n",
    "\n",
    "census_tracts = census_tracts[~census_tracts.STATEFP.isin(unwanted_states)]\n",
    "census_tracts.to_file(\"clean_data/cb_2021_us_tract_500k_filtered.json\", driver='GeoJSON')"
   ]
  },
  {
   "cell_type": "code",
   "execution_count": null,
   "id": "55ca4931",
   "metadata": {},
   "outputs": [],
   "source": [
    "# Gets all shapefiles for all states and territories\n",
    "\n",
    "# Gets list of all state fips codes\n",
    "state_fips_df = pd.read_csv(\"data/support/state_fips.csv\", dtype = {\"STATE\": str})\n",
    "state_fips = list(state_fips_df[\"STATE\"])\n",
    "base_shp_url = \"https://www2.census.gov/geo/tiger/TIGER2021/TRACT/\"\n",
    "\n",
    "geo_fp = \"data/geography\"\n",
    "\n",
    "# Iterate through all state fips codes and get their shapefile\n",
    "for curr_state in state_fips:\n",
    "\n",
    "   # Build current shapefile URL\n",
    "   curr_shp_name = f\"tl_2021_{curr_state}_tract.zip\"\n",
    "   curr_shp_url = base_shp_url + curr_shp_name\n",
    "   shp_resp = requests.get(curr_shp_url)\n",
    "   \n",
    "   # Write data out\n",
    "   if shp_resp.status_code == 200:\n",
    "      outfile = os.path.join(geo_fp, curr_shp_name)\n",
    "      f = open(outfile, \"wb\")\n",
    "      f.write(shp_resp.content)\n",
    "      f.close()\n",
    "      print(f\"Done {curr_shp_name}\")\n",
    "   # Print error message otherwise\n",
    "   else:\n",
    "      print(f\"Error in retreiving {curr_state} data\")"
   ]
  },
  {
   "cell_type": "code",
   "execution_count": null,
   "id": "f05f492d",
   "metadata": {},
   "outputs": [],
   "source": [
    "# Gets list of all census tracts for all census tracts from shapefiles\n",
    "geo_fp = \"data/geography/2021\"\n",
    "shp_files = os.listdir(geo_fp)\n",
    "\n",
    "census_tract_df = None\n",
    "\n",
    "# iterate through all shapefiles and compile census tract metadata\n",
    "for shp_file in shp_files:\n",
    "   # build shapefile path and read file\n",
    "   curr_fp = os.path.join(geo_fp, shp_file)\n",
    "   curr_gpd = gpd.read_file(curr_fp)\n",
    "\n",
    "   # limit to relevant columns\n",
    "   curr_gpd = curr_gpd[[\"STATEFP\", \"COUNTYFP\", \"TRACTCE\", \"GEOID\", \"geometry\"]]\n",
    "\n",
    "   # add to overall census tract dataframe\n",
    "   if not (census_tract_df is None):\n",
    "      census_tract_df = pd.concat([census_tract_df, curr_gpd])\n",
    "   else:\n",
    "      census_tract_df = curr_gpd\n",
    "\n",
    "   print(f\"{shp_file} done!\")\n",
    "\n",
    "# Write out overall census tract dataframe\n",
    "#census_tract_df.to_csv(os.path.join(geo_fp, \"tract_metadata.csv\"), index = False)\n",
    "census_tract_df = gpd.GeoDataFrame(\n",
    "    census_tract_df,\n",
    "    geometry=\"geometry\"\n",
    ")\n",
    "census_tract_df.to_file(os.path.join(geo_fp, \"updated_complete_tract.geojson\"), driver='GeoJSON')\n",
    "print(\"Done writing census tract metadata!\")"
   ]
  },
  {
   "cell_type": "markdown",
   "id": "d7d5721e-e5fa-4825-a408-29a0082f2efd",
   "metadata": {},
   "source": [
    "## US Census API Interaction\n",
    "In order to interact with the US Census Bureau API you need to sign up for an [API key here](https://api.census.gov/data/key_signup.html)."
   ]
  },
  {
   "cell_type": "markdown",
   "id": "d7d5721e-e5fa-4825-a408-29a0082f2efd",
   "metadata": {},
   "source": [
    "## US Census API Interaction\n",
    "In order to interact with the US Census Bureau API you need to sign up for an [API key here](https://api.census.gov/data/key_signup.html)."
   ]
  }
 ],
 "metadata": {
  "kernelspec": {
   "display_name": "Python 3.9.12 64-bit",
   "language": "python",
   "name": "python3"
  },
  "language_info": {
   "codemirror_mode": {
    "name": "ipython",
    "version": 3
   },
   "file_extension": ".py",
   "mimetype": "text/x-python",
   "name": "python",
   "nbconvert_exporter": "python",
   "pygments_lexer": "ipython3",
   "version": "3.9.12"
  },
  "vscode": {
   "interpreter": {
    "hash": "aee8b7b246df8f9039afb4144a1f6fd8d2ca17a180786b69acc140d282b71a49"
   }
  }
 },
 "nbformat": 4,
 "nbformat_minor": 5
}
