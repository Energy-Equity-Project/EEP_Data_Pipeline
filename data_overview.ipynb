{
 "cells": [
  {
   "cell_type": "markdown",
   "id": "d82779f0-ee01-49e5-83d0-718a36261573",
   "metadata": {},
   "source": [
    "# Overview of Data Variables and Sources"
   ]
  },
  {
   "cell_type": "code",
   "execution_count": 1,
   "id": "6ec36fe2-6c0d-47d2-a968-fa4348a3ab09",
   "metadata": {},
   "outputs": [],
   "source": [
    "# Loading libraries\n",
    "import os\n",
    "import requests\n",
    "import pandas as pd"
   ]
  },
  {
   "cell_type": "code",
   "execution_count": 2,
   "id": "b4f3bdff-63a8-487a-a91c-36b3877a0014",
   "metadata": {},
   "outputs": [],
   "source": [
    "def query_acs(var_code, api_key):\n",
    "    results = None\n",
    "    return None"
   ]
  },
  {
   "cell_type": "markdown",
   "id": "8d563cdc-723f-4601-a419-e2ca7f25aa0f",
   "metadata": {},
   "source": [
    "## US Census Variables\n",
    "\n",
    "These variables were taken from the US Census API, specifically from the [American Community Survey](https://www.census.gov/data/developers/data-sets/acs-5year.html). Where possible all variables are collected at a census track level."
   ]
  },
  {
   "cell_type": "code",
   "execution_count": 3,
   "id": "8d89e542-c7eb-46fb-b43c-36f6eabc0260",
   "metadata": {},
   "outputs": [],
   "source": [
    "# List of variables taken from US CENSUS bureau\n",
    "census_vars = {\n",
    "    \"total_pop\": \"B01001_001E\", # Total population\n",
    "    \"white_no_hispanic\": \"B01001H_001E\", # White Alone, not Hispanic or Latino\n",
    "    \"year_built\": \"B25035_001E\", # Median Year structure was built\n",
    "    \"internet_access\": \"B28002_013E\", # Number of households with No Internet Access\n",
    "    \"total_households\": \"B09019_003E\", # Total number of households\n",
    "    \"labor_force_rate\": \"S2301_C02_001E\", # Labor Force Participation Rate for population 16 years or older\n",
    "    \"pop_16_older\": \"S2301_C01_001E\", # Population 16 years or older\n",
    "    \"less_than_hs\": \"S2301_C01_032E\", # Population 25 to 64 years that are Less than high school graduate\n",
    "    \"insured\": \"S2701_C02_001E\", # Insured population\n",
    "    \"senior_living_alone\": \"S1101_C01_013E\", # Number of households - householder 65+ years old living alone\n",
    "    \"above_200_poverty\": \"S0501_C01_106E\", # Total population at or above 200% poverty level\n",
    "    \"occupied_housing_units\": \"S0102_C01_090E\", # Total number of housing units\n",
    "    \"owner_occupied\": \"S0102_C01_091E\", # Number of owner occupied housing units\n",
    "    \"renter_occupied\": \"S0102_C01_092E\", # Number of renter occupied housing units\n",
    "    \"disabled\": \"S0102_C01_044E\" # Population with any disability\n",
    "}"
   ]
  },
  {
   "cell_type": "code",
   "execution_count": 7,
   "id": "e1296e56-9b5c-4276-a81c-ff95935bbee6",
   "metadata": {},
   "outputs": [],
   "source": [
    "# Function that queries US Census Bureau for a specific variable and state\n",
    "def query_acs(var_name, var_code, state_fips, api_key):\n",
    "    \n",
    "    # General format for ACS data retrieval for all census tracts in a state\n",
    "    ACS_BASE_URL = 'https://api.census.gov/data/2020/acs/acs5?get=NAME,'\n",
    "    ACS_SUBJECT_URL = 'https://api.census.gov/data/2020/acs/acs5/subject?get=NAME,'\n",
    "    ACS_TRACTS = '&for=tract:*&in=state:'\n",
    "    ACS_KEY = '&key=' + api_key\n",
    "    \n",
    "    # Check if this is a detailed table variable or subject table variable\n",
    "    base_url = \"\"\n",
    "    if (var_code[0] == \"S\"):\n",
    "        base_url = ACS_SUBJECT_URL\n",
    "    elif(var_code[0] == \"B\"):\n",
    "        base_url = ACS_BASE_URL\n",
    "    else:\n",
    "        print(f\"Error Unknown type of variable {var_code}\")\n",
    "        return None\n",
    "    \n",
    "    # Builds request for US Census API\n",
    "    req_url = base_url + var_code + ACS_TRACTS + state_fips + ACS_KEY\n",
    "    \n",
    "    # Recieve and process response from US Census API\n",
    "    resp = requests.get(req_url)\n",
    "    if ((resp.status_code) != 200):\n",
    "        print(f\"Error response code {resp.status_code} for request url\\n{req_url}\")\n",
    "        return None\n",
    "    \n",
    "    dat = resp.json()\n",
    "    df = pd.DataFrame(dat[1:], columns=dat[0])\n",
    "    df[\"GEOID\"] = df['state'].astype(str) + df['county'].astype(str) + df['tract'].astype(str)\n",
    "    \n",
    "    # Rename variable with a name instead of code\n",
    "    df = df.rename(columns={var_code: var_name})\n",
    "    \n",
    "    return df"
   ]
  },
  {
   "cell_type": "markdown",
   "id": "c7ed8a7c-7188-4359-a63e-9ee97999e38c",
   "metadata": {},
   "source": [
    "## Building US Census Dataset\n",
    "Please find an example of how you could build a dataset with the US Census Datasets"
   ]
  },
  {
   "cell_type": "code",
   "execution_count": 10,
   "id": "f4c0fd0d-aeff-4e65-beba-71a02595a020",
   "metadata": {},
   "outputs": [
    {
     "name": "stdout",
     "output_type": "stream",
     "text": [
      "Current State: AL\n",
      "Current Variable: total_pop\n",
      "(1437, 6)\n",
      "Current Variable: white_no_hispanic\n",
      "(1437, 6)\n",
      "Current Variable: year_built\n",
      "(1437, 6)\n",
      "Current Variable: internet_access\n",
      "(1437, 6)\n",
      "Current Variable: total_households\n",
      "(1437, 6)\n",
      "Current Variable: labor_force_rate\n",
      "(1437, 6)\n",
      "Current Variable: pop_16_older\n",
      "(1437, 6)\n",
      "Current Variable: less_than_hs\n",
      "(1437, 6)\n",
      "Current Variable: insured\n",
      "(1437, 6)\n",
      "Current Variable: senior_living_alone\n",
      "(1437, 6)\n",
      "Current Variable: above_200_poverty\n",
      "(1437, 6)\n",
      "Current Variable: occupied_housing_units\n",
      "(1437, 6)\n",
      "Current Variable: owner_occupied\n",
      "(1437, 6)\n",
      "Current Variable: renter_occupied\n",
      "(1437, 6)\n",
      "Current Variable: disabled\n",
      "(1437, 6)\n",
      "Wrote AL results\n",
      "Done getting data\n"
     ]
    },
    {
     "ename": "AttributeError",
     "evalue": "'NoneType' object has no attribute 'to_csv'",
     "output_type": "error",
     "traceback": [
      "\u001b[0;31m---------------------------------------------------------------------------\u001b[0m",
      "\u001b[0;31mAttributeError\u001b[0m                            Traceback (most recent call last)",
      "\u001b[0;32m/var/folders/_0/9_g22rvs1c3d7sy3mlzk7mtm0000gn/T/ipykernel_28247/71648077.py\u001b[0m in \u001b[0;36m<cell line: 59>\u001b[0;34m()\u001b[0m\n\u001b[1;32m     57\u001b[0m \u001b[0;34m\u001b[0m\u001b[0m\n\u001b[1;32m     58\u001b[0m \u001b[0mprint\u001b[0m\u001b[0;34m(\u001b[0m\u001b[0;34m\"Done getting data\"\u001b[0m\u001b[0;34m)\u001b[0m\u001b[0;34m\u001b[0m\u001b[0;34m\u001b[0m\u001b[0m\n\u001b[0;32m---> 59\u001b[0;31m \u001b[0mresults\u001b[0m\u001b[0;34m.\u001b[0m\u001b[0mto_csv\u001b[0m\u001b[0;34m(\u001b[0m\u001b[0mos\u001b[0m\u001b[0;34m.\u001b[0m\u001b[0mpath\u001b[0m\u001b[0;34m.\u001b[0m\u001b[0mjoin\u001b[0m\u001b[0;34m(\u001b[0m\u001b[0moutdir\u001b[0m\u001b[0;34m,\u001b[0m \u001b[0;34m\"acs_data.csv\"\u001b[0m\u001b[0;34m)\u001b[0m\u001b[0;34m,\u001b[0m \u001b[0mindex\u001b[0m\u001b[0;34m=\u001b[0m\u001b[0;32mFalse\u001b[0m\u001b[0;34m)\u001b[0m\u001b[0;34m\u001b[0m\u001b[0;34m\u001b[0m\u001b[0m\n\u001b[0m\u001b[1;32m     60\u001b[0m \u001b[0mprint\u001b[0m\u001b[0;34m(\u001b[0m\u001b[0;34m\"Done writing data\"\u001b[0m\u001b[0;34m)\u001b[0m\u001b[0;34m\u001b[0m\u001b[0;34m\u001b[0m\u001b[0m\n",
      "\u001b[0;31mAttributeError\u001b[0m: 'NoneType' object has no attribute 'to_csv'"
     ]
    }
   ],
   "source": [
    "# Read in US Census API Key\n",
    "census_api_key = \"\"\n",
    "f = open(\"api_keys/us_census_api_key.txt\", \"r\")\n",
    "census_api_key = f.read().rstrip(\"\\n\")\n",
    "f.close()\n",
    "\n",
    "# Directory structure\n",
    "outdir = os.path.join(\"data\", \"acs\")\n",
    "states_outdir = os.path.join(outdir, \"states\")\n",
    "\n",
    "# Create directories if needed\n",
    "if not (os.path.isdir(outdir)):\n",
    "    os.mkdir(outdir)\n",
    "    \n",
    "if not (os.path.isdir(states_outdir)):\n",
    "    os.mkdir(states_outdir)\n",
    "\n",
    "# Get list of State FIPS codes\n",
    "states = pd.read_csv(\"data/support/state_fips.csv\", dtype={\"STATE\": str})\n",
    "states_fips = list(states[\"STATE\"])\n",
    "\n",
    "results = None\n",
    "\n",
    "# Iterate through all states\n",
    "for fip in states_fips:\n",
    "    \n",
    "    state_abbr = states[states[\"STATE\"] == fip][\"STUSAB\"].values[0]\n",
    "    print(f\"Current State: {state_abbr}\")\n",
    "    \n",
    "    state_results = None \n",
    "    # Iterate through all variables\n",
    "    for var_name, var_code in census_vars.items():\n",
    "        print(f\"Current Variable: {var_name}\")\n",
    "        \n",
    "        curr_df = query_acs(var_name, var_code, fip, census_api_key)\n",
    "        print(f\"{curr_df.shape}\")\n",
    "        \n",
    "        # Collect all variables for a given state in the results df\n",
    "        if not (curr_df is None):\n",
    "            if not (state_results is None):\n",
    "                state_results = pd.merge(state_results, curr_df[[\"GEOID\", var_name]], on=\"GEOID\")\n",
    "            else:\n",
    "                state_results = curr_df\n",
    "        \n",
    "    # Write State results to file\n",
    "    state_filename = f\"{state_abbr}.csv\"\n",
    "    state_results.to_csv(os.path.join(states_outdir, state_filename), index=False)\n",
    "    print(f\"Wrote {state_abbr} results\")\n",
    "    break\n",
    "                \n",
    "    # Collect state results into overall result dataframe\n",
    "    if not (state_results is None):\n",
    "        if not (results is None):\n",
    "            results = pd.concat([results, state_results])\n",
    "        else:\n",
    "            results = state_results\n",
    "    \n",
    "print(\"Done getting data\")\n",
    "results.to_csv(os.path.join(outdir, \"acs_data.csv\"), index=False)\n",
    "print(\"Done writing data\")"
   ]
  },
  {
   "cell_type": "code",
   "execution_count": null,
   "id": "c69d5022-baef-4f64-bec3-285a77a048e5",
   "metadata": {},
   "outputs": [],
   "source": []
  }
 ],
 "metadata": {
  "kernelspec": {
   "display_name": "Python 3 (ipykernel)",
   "language": "python",
   "name": "python3"
  },
  "language_info": {
   "codemirror_mode": {
    "name": "ipython",
    "version": 3
   },
   "file_extension": ".py",
   "mimetype": "text/x-python",
   "name": "python",
   "nbconvert_exporter": "python",
   "pygments_lexer": "ipython3",
   "version": "3.9.12"
  }
 },
 "nbformat": 4,
 "nbformat_minor": 5
}
