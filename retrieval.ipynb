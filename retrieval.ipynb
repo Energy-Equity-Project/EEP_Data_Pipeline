{
 "cells": [
  {
   "cell_type": "markdown",
   "id": "d82779f0-ee01-49e5-83d0-718a36261573",
   "metadata": {},
   "source": [
    "# Overview of Data Variables and Sources"
   ]
  },
  {
   "cell_type": "code",
   "execution_count": 1,
   "id": "6ec36fe2-6c0d-47d2-a968-fa4348a3ab09",
   "metadata": {},
   "outputs": [],
   "source": [
    "# Loading libraries\n",
    "import os\n",
    "import requests\n",
    "import pandas as pd"
   ]
  },
  {
   "cell_type": "markdown",
   "id": "8d563cdc-723f-4601-a419-e2ca7f25aa0f",
   "metadata": {},
   "source": [
    "## US Census Variables\n",
    "\n",
    "These variables were taken from the US Census API, specifically from the [American Community Survey](https://www.census.gov/data/developers/data-sets/acs-5year.html). Where possible all variables are collected at a census track level."
   ]
  },
  {
   "cell_type": "code",
   "execution_count": 2,
   "id": "8d89e542-c7eb-46fb-b43c-36f6eabc0260",
   "metadata": {
    "tags": []
   },
   "outputs": [],
   "source": [
    "# List of variables taken from US CENSUS bureau\n",
    "census_vars = {\n",
    "    \"total_pop\": \"B01001_001E\", # Total population\n",
    "    \"white_no_hispanic\": \"B01001H_001E\", # White Alone, not Hispanic or Latino\n",
    "    \"year_built\": \"B25035_001E\", # Median Year structure was built\n",
    "    \"internet_access\": \"B28002_013E\", # Number of households with No Internet Access\n",
    "    \"total_households\": \"B09019_003E\", # Total number of households\n",
    "    \"labor_force_rate\": \"S2301_C02_001E\", # Labor Force Participation Rate for population 16 years or older\n",
    "    #\"pop_16_older\": \"S2301_C01_001E\", # Population 16 years or older\n",
    "    #\"less_than_hs\": \"S2301_C01_032E\", # Population 25 to 64 years that are Less than high school graduate\n",
    "    \"less_than_hs\": \"B06009_002E\", # Population age 25+ with no HS diploma\n",
    "    \"insured\": \"S2701_C02_001E\", # Insured population\n",
    "    \"senior_living_alone\": \"S1101_C01_013E\", # Number of households - householder 65+ years old living alone\n",
    "    \"median_income\": \"B07011_001E\", # Median income for population in the last 12 months\n",
    "    \"occupied_housing_units\": \"S2501_C01_001E\", # Total number of housing units\n",
    "    \"owner_occupied\": \"S2501_C03_001E\", # Number of owner occupied housing units\n",
    "    \"renter_occupied\": \"S2501_C05_001E\", # Number of renter occupied housing units\n",
    "    \"disabled\": \"B18140_002E\", # Population 16+ years old with any disability with earnings\n",
    "    \"pop_16_plus\": \"B18140_001E\" # Population 16+ with earnings\n",
    "}"
   ]
  },
  {
   "cell_type": "markdown",
   "id": "c7ed8a7c-7188-4359-a63e-9ee97999e38c",
   "metadata": {},
   "source": [
    "## Building US Census Dataset\n",
    "Please find an example of how you could build a dataset with the US Census Datasets"
   ]
  },
  {
   "cell_type": "code",
   "execution_count": 3,
   "id": "e1296e56-9b5c-4276-a81c-ff95935bbee6",
   "metadata": {},
   "outputs": [],
   "source": [
    "# Function that queries US Census Bureau for a specific variable and state\n",
    "def query_acs(var_name, var_code, state_fips, api_key):\n",
    "    \n",
    "    # General format for ACS data retrieval for all census tracts in a state\n",
    "    ACS_BASE_URL = 'https://api.census.gov/data/2020/acs/acs5?get=NAME,'\n",
    "    ACS_SUBJECT_URL = 'https://api.census.gov/data/2020/acs/acs5/subject?get=NAME,'\n",
    "    ACS_TRACTS = '&for=tract:*&in=state:'\n",
    "    ACS_KEY = '&key=' + api_key\n",
    "    \n",
    "    # Check if this is a detailed table variable or subject table variable\n",
    "    base_url = \"\"\n",
    "    if (var_code[0] == \"S\"):\n",
    "        base_url = ACS_SUBJECT_URL\n",
    "    elif(var_code[0] == \"B\"):\n",
    "        base_url = ACS_BASE_URL\n",
    "    else:\n",
    "        print(f\"Error Unknown type of variable {var_code}\")\n",
    "        return None\n",
    "    \n",
    "    # Builds request for US Census API\n",
    "    req_url = base_url + var_code + ACS_TRACTS + state_fips + ACS_KEY\n",
    "    \n",
    "    # Recieve and process response from US Census API\n",
    "    resp = requests.get(req_url)\n",
    "    if ((resp.status_code) != 200):\n",
    "        print(f\"Error response code {resp.status_code} for request url\\n{req_url}\")\n",
    "        return None\n",
    "    \n",
    "    dat = resp.json()\n",
    "    df = pd.DataFrame(dat[1:], columns=dat[0])\n",
    "    df[\"GEOID\"] = df['state'].astype(str) + df['county'].astype(str) + df['tract'].astype(str)\n",
    "    \n",
    "    # Rename variable with a name instead of code\n",
    "    df = df.rename(columns={var_code: var_name})\n",
    "    \n",
    "    return df"
   ]
  },
  {
   "cell_type": "code",
   "execution_count": null,
   "id": "f4c0fd0d-aeff-4e65-beba-71a02595a020",
   "metadata": {},
   "outputs": [],
   "source": [
    "# Read in US Census API Key\n",
    "census_api_key = \"\"\n",
    "f = open(\"api_keys/us_census_api_key.txt\", \"r\")\n",
    "census_api_key = f.read().rstrip(\"\\n\")\n",
    "f.close()\n",
    "\n",
    "# Directory structure\n",
    "outdir = os.path.join(\"data\", \"acs\")\n",
    "states_outdir = os.path.join(outdir, \"states\")\n",
    "\n",
    "# Create directories if needed\n",
    "if not (os.path.isdir(outdir)):\n",
    "    os.mkdir(outdir)\n",
    "    \n",
    "if not (os.path.isdir(states_outdir)):\n",
    "    os.mkdir(states_outdir)\n",
    "\n",
    "# Get list of State FIPS codes\n",
    "states = pd.read_csv(\"data/support/state_fips.csv\", dtype={\"STATE\": str})\n",
    "states_fips = list(states[\"STATE\"])\n",
    "\n",
    "results = None\n",
    "\n",
    "# Iterate through all states\n",
    "for fip in states_fips:\n",
    "    \n",
    "    state_abbr = states[states[\"STATE\"] == fip][\"STUSAB\"].values[0]\n",
    "    print(f\"Current State: {state_abbr}\")\n",
    "    \n",
    "    state_results = None \n",
    "    # Iterate through all variables\n",
    "    for var_name, var_code in census_vars.items():\n",
    "        print(f\"Current Variable: {var_name}\")\n",
    "        \n",
    "        curr_df = query_acs(var_name, var_code, fip, census_api_key)\n",
    "        \n",
    "        # Collect all variables for a given state in the results df\n",
    "        if not (curr_df is None):\n",
    "            if not (state_results is None):\n",
    "                state_results = pd.merge(state_results, curr_df[[\"GEOID\", var_name]], on=\"GEOID\")\n",
    "            else:\n",
    "                state_results = curr_df\n",
    "                \n",
    "    # Collect state results into overall result dataframe\n",
    "    if not (state_results is None):\n",
    "        \n",
    "         # Write State results to file\n",
    "        state_filename = f\"{state_abbr}.csv\"\n",
    "        state_results.to_csv(os.path.join(states_outdir, state_filename), index=False)\n",
    "        print(f\"Wrote {state_abbr} results\")\n",
    "        \n",
    "        if not (results is None):\n",
    "            results = pd.concat([results, state_results])\n",
    "        else:\n",
    "            results = state_results\n",
    "    \n",
    "print(\"Done getting data\")\n",
    "results.to_csv(os.path.join(outdir, \"acs_data.csv\"), index=False)\n",
    "print(\"Done writing data\")"
   ]
  },
  {
   "cell_type": "markdown",
   "id": "06d615f9-5c7e-4ca8-9aae-3cb341309e71",
   "metadata": {},
   "source": [
    "## Climate Variables\n",
    "\n",
    "### National Risk Index\n",
    "Climate variables were taken from the [National Risk Index](https://hazards.fema.gov/nri/data-resources) created by FEMA. Specifically downloaded the census tract level tables for the US."
   ]
  },
  {
   "cell_type": "markdown",
   "id": "84f52581-d22b-4aae-8aac-21286f1dd7b7",
   "metadata": {},
   "source": [
    "## Social Variables\n",
    "\n",
    "### Social Vulnerability Index\n",
    "[Social Vulnerability Index](https://www.atsdr.cdc.gov/placeandhealth/svi/data_documentation_download.html) created by the CDC. Download the 2018 data formatted as a CSV table at the census tract level.\n",
    "\n",
    "### Eviction Data\n",
    "\n",
    "Used the data from the [Eviction lab](https://data-downloads.evictionlab.org/#data-for-analysis/). Download the county level proprietary data. Method for how this data was calculated is found [here](https://evictionlab.org/docs/Eviction_Lab_Methodology_Report_2022.pdf). Note that this does not offer full coverage of the US."
   ]
  },
  {
   "cell_type": "markdown",
   "id": "70f44d12-70c8-47a9-a21e-1f410aec5991",
   "metadata": {},
   "source": [
    "## Energy Variables\n",
    "\n",
    "### Energy Burden\n",
    "\n",
    "Energy Burden was taken from the [DOE LEAD tool](https://www.energy.gov/eere/slsc/maps/lead-tool). Choose Federal Poverty Level (FPL) for income model.\n",
    "\n",
    "For each state:\n",
    "1. Click on State\n",
    "2. Click \"View Census Tracts\"\n",
    "3. Select \"None\" under show borders (default is Tribal Areas)\n",
    "4. Click the data download button at the bottom of the state map\n",
    "\n",
    "All these files were then concatenated together to create a full US dataset.\n",
    "\n",
    "### ACEEE\n",
    "\n",
    "An overview of the ACEEE scorecard is provided [here](https://www.aceee.org/state-policy/scorecard). Full methodology for how gas and electric spending are found in this [report](https://www.aceee.org/research-report/u2201), specifically taken from tables 1 and 2.\n",
    "\n",
    "### Community Power Scorecard\n",
    "\n",
    "The [2022 version](https://cdn.ilsr.org/wp-content/uploads/2022/02/2022-Scorecard-Methodology-Full-Scores.pdf?_ga=2.53695528.1839514613.1661261912-1838658277.1661261912&_gl=1*1jo79qe*_ga*MTgzODY1ODI3Ny4xNjYxMjYxOTEy*_ga_M3134750WM*MTY2MTI2MTkxMS4xLjEuMTY2MTI2MTkxMS4wLjAuMA) provided by Institute for Local Self Reliance was used. Each state was assessed on 11 indicators, with a maximum of 44 points. The raw point score provided by ISLR for each state were divided by 44 to determine the % of points earned (out of 100%).\n",
    "\n",
    "### Reliability data\n",
    "\n",
    "Taken from [EIA Form 861](https://www.eia.gov/electricity/data/eia861/). Note this data exists at a service territory level and needs to be transformed to census tract level data. Main variables to look at are CAIDI, SAIDI and SAIFI.\n",
    "\n",
    "### Median income of solar installers by tract\n",
    "\n",
    "Median income for rooftop solar installers data from [Lawrence Berkeley National Lab](https://www.lbl.gov/). Note this was collected by contacting the lab directly.\n",
    "\n",
    "### Residential rates as percentage of commercial and industrial rates\n",
    "\n",
    "Data pulled from [EIA Electric Power Monthly](https://www.eia.gov/electricity/monthly/epm_table_grapher.php?t=epmt_5_6_a). We used December 2021 data (although May  2022 data is now available). Through excel we calculated the residential rate per kWh (in cents) as a percentage of the commercial rate per kWh (i.e. divided by) and as a percentage of the industrial rate per kWh. These two figures (residential/commerical and residential/industrial) were then averaged and reported as a single percentage, with 100% being equal rates, <100% reflecting residential rates lower than the average of C&I rates, and >100% reflecting residential rates than the average of C&I rates.\n",
    "\n",
    "### Home Energy Affordability Gap\n",
    "\n",
    "The Home Energy Affordability Gap's site is [here](http://www.homeenergyaffordabilitygap.com/index.html). Note the data was collected by directly contacting the firm."
   ]
  }
 ],
 "metadata": {
  "kernelspec": {
   "display_name": "Python 3.9.12 64-bit",
   "language": "python",
   "name": "python3"
  },
  "language_info": {
   "codemirror_mode": {
    "name": "ipython",
    "version": 3
   },
   "file_extension": ".py",
   "mimetype": "text/x-python",
   "name": "python",
   "nbconvert_exporter": "python",
   "pygments_lexer": "ipython3",
   "version": "3.9.12"
  },
  "vscode": {
   "interpreter": {
    "hash": "aee8b7b246df8f9039afb4144a1f6fd8d2ca17a180786b69acc140d282b71a49"
   }
  }
 },
 "nbformat": 4,
 "nbformat_minor": 5
}
